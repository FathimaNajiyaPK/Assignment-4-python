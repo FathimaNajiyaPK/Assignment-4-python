{
  "nbformat": 4,
  "nbformat_minor": 0,
  "metadata": {
    "colab": {
      "provenance": []
    },
    "kernelspec": {
      "name": "python3",
      "display_name": "Python 3"
    },
    "language_info": {
      "name": "python"
    }
  },
  "cells": [
    {
      "cell_type": "code",
      "execution_count": null,
      "metadata": {
        "id": "sLGFBWTKLVt9"
      },
      "outputs": [],
      "source": []
    },
    {
      "cell_type": "markdown",
      "source": [
        "# Assignment 4 Python-Functions"
      ],
      "metadata": {
        "id": "3a7ayAfjMP-M"
      }
    },
    {
      "cell_type": "markdown",
      "source": [
        "**Using len() Function**"
      ],
      "metadata": {
        "id": "ttkpSbndMmns"
      }
    },
    {
      "cell_type": "code",
      "source": [
        "# The len() function in Python is used to find the number of items in an object, like a list, string, or tuple.\n",
        "\n",
        "# Example: Using len() to find the length of a list\n",
        "example_list = [10, 20, 30, 40, 50]\n",
        "length_of_list = len(example_list)\n",
        "print(\"Length of the list:\", length_of_list)"
      ],
      "metadata": {
        "colab": {
          "base_uri": "https://localhost:8080/"
        },
        "id": "IQjO52xQMf9n",
        "outputId": "e90ba4aa-d6b1-4e8a-e792-881deda616da"
      },
      "execution_count": 1,
      "outputs": [
        {
          "output_type": "stream",
          "name": "stdout",
          "text": [
            "Length of the list: 5\n"
          ]
        }
      ]
    },
    {
      "cell_type": "markdown",
      "source": [
        "**greet(name) Function**"
      ],
      "metadata": {
        "id": "A7Zn6KC9NDS6"
      }
    },
    {
      "cell_type": "code",
      "source": [
        "def greet(name):\n",
        "    \"\"\"\n",
        "    This function takes a name as input and prints a greeting message.\n",
        "    \"\"\"\n",
        "    print(f\"Hello, {name}!\")\n",
        "\n",
        "# Example usage:\n",
        "greet(\"Fathima\")"
      ],
      "metadata": {
        "colab": {
          "base_uri": "https://localhost:8080/"
        },
        "id": "y1swg-39MuEp",
        "outputId": "1d93cf39-6f01-4a8d-8bbe-8e2e9e02c23d"
      },
      "execution_count": 2,
      "outputs": [
        {
          "output_type": "stream",
          "name": "stdout",
          "text": [
            "Hello, Fathima!\n"
          ]
        }
      ]
    },
    {
      "cell_type": "markdown",
      "source": [
        "**find_maximum(numbers) Function (without using max())**"
      ],
      "metadata": {
        "id": "RBTngIr8NOjz"
      }
    },
    {
      "cell_type": "code",
      "source": [
        "def find_maximum(numbers):\n",
        "    \"\"\"\n",
        "    This function finds the maximum value in a list without using the max() function.\n",
        "    It uses a loop to iterate through the list and compare values.\n",
        "    \"\"\"\n",
        "    if not numbers:  # Check if the list is empty\n",
        "        return None\n",
        "    max_value = numbers[0]  # Assume the first number is the maximum\n",
        "    for num in numbers:\n",
        "        if num > max_value:\n",
        "            max_value = num\n",
        "    return max_value\n",
        "\n",
        "# Example usage:\n",
        "number_list = [4, 7, 1, 9, 3]\n",
        "print(\"Maximum value:\", find_maximum(number_list))"
      ],
      "metadata": {
        "colab": {
          "base_uri": "https://localhost:8080/"
        },
        "id": "217sn74lNLcu",
        "outputId": "d779fabc-4971-4310-c69d-cbdd9e0d9e67"
      },
      "execution_count": 3,
      "outputs": [
        {
          "output_type": "stream",
          "name": "stdout",
          "text": [
            "Maximum value: 9\n"
          ]
        }
      ]
    },
    {
      "cell_type": "markdown",
      "source": [
        "**Local vs Global Variables**"
      ],
      "metadata": {
        "id": "obyxCfyhNfgc"
      }
    },
    {
      "cell_type": "code",
      "source": [
        "# Local variables are defined within a function and can only be accessed inside that function.\n",
        "# Global variables are defined outside any function and can be accessed anywhere in the code.\n",
        "\n",
        "# Example: Global and Local Variables with the same name\n",
        "x = 10  # Global variable\n",
        "\n",
        "def example_function():\n",
        "    x = 5  # Local variable\n",
        "    print(\"Local x:\", x)\n",
        "\n",
        "example_function()\n",
        "print(\"Global x:\", x)"
      ],
      "metadata": {
        "colab": {
          "base_uri": "https://localhost:8080/"
        },
        "id": "5xhsEwWkNX0t",
        "outputId": "38cd2d35-c2d2-4c09-bc2d-523776b5ad91"
      },
      "execution_count": 4,
      "outputs": [
        {
          "output_type": "stream",
          "name": "stdout",
          "text": [
            "Local x: 5\n",
            "Global x: 10\n"
          ]
        }
      ]
    },
    {
      "cell_type": "markdown",
      "source": [
        "**calculate_area(length, width=5) Functiont**"
      ],
      "metadata": {
        "id": "seTnFuTRNlKz"
      }
    },
    {
      "cell_type": "code",
      "source": [
        "def calculate_area(length, width=5):\n",
        "    \"\"\"\n",
        "    This function calculates the area of a rectangle.\n",
        "    If only length is provided, width is assumed to be 5 by default.\n",
        "    \"\"\"\n",
        "    return length * width\n",
        "\n",
        "# Example usage:\n",
        "# Only length provided, width defaults to 5\n",
        "print(\"Area with default width:\", calculate_area(10))\n",
        "\n",
        "# Both length and width provided\n",
        "print(\"Area with given width:\", calculate_area(10, 8))"
      ],
      "metadata": {
        "colab": {
          "base_uri": "https://localhost:8080/"
        },
        "id": "Jcr6eJcsNivk",
        "outputId": "7ddd2392-0527-46e0-e70a-e98350048f17"
      },
      "execution_count": 5,
      "outputs": [
        {
          "output_type": "stream",
          "name": "stdout",
          "text": [
            "Area with default width: 50\n",
            "Area with given width: 80\n"
          ]
        }
      ]
    },
    {
      "cell_type": "code",
      "source": [],
      "metadata": {
        "id": "A3mAgXJUNpBN"
      },
      "execution_count": null,
      "outputs": []
    }
  ]
}